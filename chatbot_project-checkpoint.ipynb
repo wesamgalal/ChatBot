{
  "nbformat": 4,
  "nbformat_minor": 0,
  "metadata": {
    "colab": {
      "name": "chatbot_project.ipynb",
      "version": "0.3.2",
      "views": {},
      "default_view": {},
      "provenance": [],
      "private_outputs": true
    },
    "kernelspec": {
      "name": "python3",
      "display_name": "Python 3"
    },
    "accelerator": "GPU"
  },
  "cells": [
    {
      "metadata": {
        "id": "nJXmWyWfwS1a",
        "colab_type": "text"
      },
      "cell_type": "markdown",
      "source": [
        "# import library"
      ]
    },
    {
      "metadata": {
        "id": "-Q56Tfi3VhiP",
        "colab_type": "code",
        "colab": {
          "autoexec": {
            "startup": false,
            "wait_interval": 0
          }
        }
      },
      "cell_type": "code",
      "source": [
        "!apt-get install -y -qq software-properties-common python-software-properties module-init-tools\n",
        "!add-apt-repository -y ppa:alessandro-strada/ppa 2>&1 > /dev/null\n",
        "!apt-get update -qq 2>&1 > /dev/null\n",
        "\n",
        "!apt-get -y install -qq google-drive-ocamlfuse fuse\n",
        "from google.colab import auth\n",
        "auth.authenticate_user()\n",
        "from oauth2client.client import GoogleCredentials\n",
        "creds = GoogleCredentials.get_application_default()\n",
        "import getpass\n",
        "!google-drive-ocamlfuse -headless -id={creds.client_id} -secret={creds.client_secret} < /dev/null 2>&1 | grep URL\n",
        "vcode = getpass.getpass()\n",
        "!echo {vcode} | google-drive-ocamlfuse -headless -id={creds.client_id} -secret={creds.client_secret}"
      ],
      "execution_count": 0,
      "outputs": []
    },
    {
      "metadata": {
        "id": "W8ET90DcwYa_",
        "colab_type": "code",
        "colab": {
          "autoexec": {
            "startup": false,
            "wait_interval": 0
          }
        }
      },
      "cell_type": "code",
      "source": [
        "!mkdir -p drive\n",
        "!google-drive-ocamlfuse drive"
      ],
      "execution_count": 0,
      "outputs": []
    },
    {
      "metadata": {
        "id": "E3dEfDg-waW3",
        "colab_type": "code",
        "colab": {
          "autoexec": {
            "startup": false,
            "wait_interval": 0
          }
        }
      },
      "cell_type": "code",
      "source": [
        "!pip install gensim"
      ],
      "execution_count": 0,
      "outputs": []
    },
    {
      "metadata": {
        "id": "_ahT0U8AwcuZ",
        "colab_type": "code",
        "colab": {
          "autoexec": {
            "startup": false,
            "wait_interval": 0
          }
        }
      },
      "cell_type": "code",
      "source": [
        "import numpy as np\n",
        "import pandas as pd\n",
        "import re\n",
        "import pickle\n",
        "import os\n",
        "import gensim\n",
        "import nltk\n",
        "import matplotlib.pyplot as plt\n",
        "from gensim.models import Word2Vec\n",
        "from sklearn.decomposition import PCA\n",
        "from matplotlib import pyplot\n",
        "from sklearn.model_selection import train_test_split\n",
        "from keras.models import Sequential\n",
        "from keras.layers.recurrent import LSTM,SimpleRNN\n",
        "from keras.models import load_model\n",
        "from google.colab import files"
      ],
      "execution_count": 0,
      "outputs": []
    },
    {
      "metadata": {
        "id": "ZuwCLYX1BENm",
        "colab_type": "code",
        "colab": {
          "autoexec": {
            "startup": false,
            "wait_interval": 0
          }
        }
      },
      "cell_type": "code",
      "source": [
        "nltk.download('punkt')"
      ],
      "execution_count": 0,
      "outputs": []
    },
    {
      "metadata": {
        "id": "LbguRHXnwlUd",
        "colab_type": "text"
      },
      "cell_type": "markdown",
      "source": [
        "# upload data"
      ]
    },
    {
      "metadata": {
        "id": "BwBpRAw2whdz",
        "colab_type": "code",
        "colab": {
          "autoexec": {
            "startup": false,
            "wait_interval": 0
          }
        }
      },
      "cell_type": "code",
      "source": [
        "from google.colab import files\n",
        "uploaded = files.upload()"
      ],
      "execution_count": 0,
      "outputs": []
    },
    {
      "metadata": {
        "id": "E1yY69odLl9Z",
        "colab_type": "text"
      },
      "cell_type": "markdown",
      "source": [
        "# data frame"
      ]
    },
    {
      "metadata": {
        "id": "T7OBImZBwtSl",
        "colab_type": "code",
        "colab": {
          "autoexec": {
            "startup": false,
            "wait_interval": 0
          }
        }
      },
      "cell_type": "code",
      "source": [
        "df = pd.read_csv('jokes.csv')\n",
        "df.head()"
      ],
      "execution_count": 0,
      "outputs": []
    },
    {
      "metadata": {
        "id": "-rGZtbZxw17W",
        "colab_type": "code",
        "colab": {
          "autoexec": {
            "startup": false,
            "wait_interval": 0
          }
        }
      },
      "cell_type": "code",
      "source": [
        "question = df.loc[:,'Question'].values.tolist()\n",
        "print(len(question))\n",
        "#question"
      ],
      "execution_count": 0,
      "outputs": []
    },
    {
      "metadata": {
        "id": "Lsvv5Ju0w31A",
        "colab_type": "code",
        "colab": {
          "autoexec": {
            "startup": false,
            "wait_interval": 0
          }
        }
      },
      "cell_type": "code",
      "source": [
        "answer = df.loc[:,'Answer'].values.tolist()\n",
        "print(len(answer))\n",
        "#answer"
      ],
      "execution_count": 0,
      "outputs": []
    },
    {
      "metadata": {
        "id": "9ZkV8w7Iw6Hw",
        "colab_type": "text"
      },
      "cell_type": "markdown",
      "source": [
        "# word tokenize"
      ]
    },
    {
      "metadata": {
        "id": "bj2T-s8Hw6rh",
        "colab_type": "code",
        "colab": {
          "autoexec": {
            "startup": false,
            "wait_interval": 0
          }
        }
      },
      "cell_type": "code",
      "source": [
        "def sentence_to_wordlist(raw):\n",
        "    clean = re.sub(\"[^a-zA-Z]\",\" \", raw)\n",
        "    words = clean.split()\n",
        "    return words"
      ],
      "execution_count": 0,
      "outputs": []
    },
    {
      "metadata": {
        "id": "dwMK8ltsw-W2",
        "colab_type": "code",
        "colab": {
          "autoexec": {
            "startup": false,
            "wait_interval": 0
          }
        }
      },
      "cell_type": "code",
      "source": [
        "word_ques = []\n",
        "for raw_ques in question:\n",
        "  if len(raw_ques) > 0:\n",
        "    word_ques.append(sentence_to_wordlist(raw_ques.lower()))\n",
        "\n",
        "print(len(word_ques))\n",
        "#word_ques\n",
        "#word_ques[0]"
      ],
      "execution_count": 0,
      "outputs": []
    },
    {
      "metadata": {
        "id": "YqZ86i58xBiR",
        "colab_type": "code",
        "colab": {
          "autoexec": {
            "startup": false,
            "wait_interval": 0
          }
        }
      },
      "cell_type": "code",
      "source": [
        "word_ans = []\n",
        "for raw_ans in answer:\n",
        "  if len(raw_ans) > 0:\n",
        "    word_ans.append(sentence_to_wordlist(raw_ans.lower()))\n",
        "\n",
        "print(len(word_ans))\n",
        "#word_ans\n",
        "#word_ans[0]"
      ],
      "execution_count": 0,
      "outputs": []
    },
    {
      "metadata": {
        "id": "nOmGnHOsxZt2",
        "colab_type": "text"
      },
      "cell_type": "markdown",
      "source": [
        "##corpus"
      ]
    },
    {
      "metadata": {
        "id": "-gstaLy2xVwD",
        "colab_type": "code",
        "colab": {
          "autoexec": {
            "startup": false,
            "wait_interval": 0
          }
        }
      },
      "cell_type": "code",
      "source": [
        "corpus = []\n",
        "for i in range(len(word_ques)):\n",
        "  x = word_ques[i]\n",
        "  y = word_ans[i]\n",
        "  corpus.append(x)\n",
        "  corpus.append(y)\n",
        "\n",
        "print(len(corpus))\n",
        "#corpus"
      ],
      "execution_count": 0,
      "outputs": []
    },
    {
      "metadata": {
        "id": "9CYSCk6ymL6P",
        "colab_type": "code",
        "colab": {
          "autoexec": {
            "startup": false,
            "wait_interval": 0
          }
        }
      },
      "cell_type": "code",
      "source": [
        "num_of_word = 0\n",
        "for i in corpus:\n",
        "  for j in i:\n",
        "    num_of_word = num_of_word + 1\n",
        "    \n",
        "num_of_word    "
      ],
      "execution_count": 0,
      "outputs": []
    },
    {
      "metadata": {
        "id": "YySZyq6Ix2se",
        "colab_type": "text"
      },
      "cell_type": "markdown",
      "source": [
        "##Train Word2Vec"
      ]
    },
    {
      "metadata": {
        "id": "XgYQ0jUoxnVX",
        "colab_type": "code",
        "colab": {
          "autoexec": {
            "startup": false,
            "wait_interval": 0
          }
        }
      },
      "cell_type": "code",
      "source": [
        "# train model\n",
        "jokes_vec = Word2Vec(\n",
        "    corpus,\n",
        "    size=300,\n",
        "    #window=context_size,\n",
        "    min_count=1,\n",
        "    #workers=num_workers,\n",
        "    #sg=1,\n",
        ")"
      ],
      "execution_count": 0,
      "outputs": []
    },
    {
      "metadata": {
        "id": "JY7Uc27DyAZX",
        "colab_type": "code",
        "colab": {
          "autoexec": {
            "startup": false,
            "wait_interval": 0
          }
        }
      },
      "cell_type": "code",
      "source": [
        "# summarize the loaded model\n",
        "print(jokes_vec)"
      ],
      "execution_count": 0,
      "outputs": []
    },
    {
      "metadata": {
        "id": "9oIoKsvZyFxQ",
        "colab_type": "code",
        "colab": {
          "autoexec": {
            "startup": false,
            "wait_interval": 0
          }
        }
      },
      "cell_type": "code",
      "source": [
        "# summarize vocabulary\n",
        "words = list(jokes_vec.wv.vocab)\n",
        "print(words)\n",
        "print(len(words))"
      ],
      "execution_count": 0,
      "outputs": []
    },
    {
      "metadata": {
        "id": "m3VUo6LCyISB",
        "colab_type": "code",
        "colab": {
          "autoexec": {
            "startup": false,
            "wait_interval": 0
          }
        }
      },
      "cell_type": "code",
      "source": [
        "# access vector for one word\n",
        "word = 'ali'\n",
        "lower_word = word.lower()\n",
        "print(jokes_vec[lower_word])"
      ],
      "execution_count": 0,
      "outputs": []
    },
    {
      "metadata": {
        "id": "8wYbFrQ7yMpy",
        "colab_type": "code",
        "colab": {
          "autoexec": {
            "startup": false,
            "wait_interval": 0
          }
        }
      },
      "cell_type": "code",
      "source": [
        "# explore semantic similarities\n",
        "word = 'france'\n",
        "lower_word = word.lower()\n",
        "jokes_vec.most_similar(lower_word)"
      ],
      "execution_count": 0,
      "outputs": []
    },
    {
      "metadata": {
        "id": "t2i9ZR9WyOkS",
        "colab_type": "code",
        "colab": {
          "autoexec": {
            "startup": false,
            "wait_interval": 0
          }
        }
      },
      "cell_type": "code",
      "source": [
        "# save model.bin\n",
        "jokes_vec.save('jokes_vec.bin')"
      ],
      "execution_count": 0,
      "outputs": []
    },
    {
      "metadata": {
        "id": "KBrl9nMHyRDz",
        "colab_type": "code",
        "colab": {
          "autoexec": {
            "startup": false,
            "wait_interval": 0
          }
        }
      },
      "cell_type": "code",
      "source": [
        "# download model.bin\n",
        "#files.download('jokes_vec.bin')"
      ],
      "execution_count": 0,
      "outputs": []
    },
    {
      "metadata": {
        "id": "d7PRDMGCyRsp",
        "colab_type": "code",
        "colab": {
          "autoexec": {
            "startup": false,
            "wait_interval": 0
          }
        }
      },
      "cell_type": "code",
      "source": [
        "# load model\n",
        "#jokes_vec_model = Word2Vec.load('jokes_vec.bin')\n",
        "#print(jokes_vec_model)"
      ],
      "execution_count": 0,
      "outputs": []
    },
    {
      "metadata": {
        "id": "Ln2HU0X51lZ9",
        "colab_type": "text"
      },
      "cell_type": "markdown",
      "source": [
        "##Visualize Word Embedding"
      ]
    },
    {
      "metadata": {
        "id": "pQPzvPW01h5j",
        "colab_type": "code",
        "colab": {
          "autoexec": {
            "startup": false,
            "wait_interval": 0
          }
        }
      },
      "cell_type": "code",
      "source": [
        "X = jokes_vec[jokes_vec.wv.vocab]\n",
        "pca = PCA(n_components=2)\n",
        "result = pca.fit_transform(X)"
      ],
      "execution_count": 0,
      "outputs": []
    },
    {
      "metadata": {
        "id": "Fw3oVyfM1rJB",
        "colab_type": "code",
        "colab": {
          "autoexec": {
            "startup": false,
            "wait_interval": 0
          }
        }
      },
      "cell_type": "code",
      "source": [
        "\n",
        "pyplot.scatter(result[:, 0], result[:, 1])\n",
        "words = list(jokes_vec.wv.vocab)\n",
        "for i, word in enumerate(words):\n",
        "\tpyplot.annotate(word, xy=(result[i, 0], result[i, 1]))\n",
        "pyplot.show()\n"
      ],
      "execution_count": 0,
      "outputs": []
    },
    {
      "metadata": {
        "id": "1bu9diNsMx9p",
        "colab_type": "text"
      },
      "cell_type": "markdown",
      "source": [
        "#determine the length of question and answer"
      ]
    },
    {
      "metadata": {
        "id": "dv2I5s1j6Y2G",
        "colab_type": "code",
        "colab": {
          "autoexec": {
            "startup": false,
            "wait_interval": 0
          }
        }
      },
      "cell_type": "code",
      "source": [
        "most_len_ques = 0\n",
        "for q in word_ques:\n",
        "  len_ques = len(q)\n",
        "  if most_len_ques < len_ques:\n",
        "    most_len_ques = len_ques\n",
        "    \n",
        "most_len_ques"
      ],
      "execution_count": 0,
      "outputs": []
    },
    {
      "metadata": {
        "id": "VQUAYNCINTRH",
        "colab_type": "code",
        "colab": {
          "autoexec": {
            "startup": false,
            "wait_interval": 0
          }
        }
      },
      "cell_type": "code",
      "source": [
        "count = 0\n",
        "for q in word_ques:\n",
        "  len_ques = len(q)\n",
        "  if len_ques <= 15:\n",
        "    count = count + 1 \n",
        "    \n",
        "count "
      ],
      "execution_count": 0,
      "outputs": []
    },
    {
      "metadata": {
        "id": "vkYlmboWNYqi",
        "colab_type": "code",
        "colab": {
          "autoexec": {
            "startup": false,
            "wait_interval": 0
          }
        }
      },
      "cell_type": "code",
      "source": [
        "most_len_ques = 0\n",
        "for q in word_ans:\n",
        "  len_ques = len(q)\n",
        "  if most_len_ques < len_ques:\n",
        "    most_len_ques = len_ques\n",
        "    \n",
        "most_len_ques"
      ],
      "execution_count": 0,
      "outputs": []
    },
    {
      "metadata": {
        "id": "R0AW0bMNNf7K",
        "colab_type": "code",
        "colab": {
          "autoexec": {
            "startup": false,
            "wait_interval": 0
          }
        }
      },
      "cell_type": "code",
      "source": [
        "count = 0\n",
        "for q in word_ans:\n",
        "  len_ques = len(q)\n",
        "  if len_ques <= 15:\n",
        "    count = count + 1 \n",
        "    \n",
        "count  "
      ],
      "execution_count": 0,
      "outputs": []
    },
    {
      "metadata": {
        "id": "t-CcBHaLHjmk",
        "colab_type": "text"
      },
      "cell_type": "markdown",
      "source": [
        "#creat vector of all ones"
      ]
    },
    {
      "metadata": {
        "id": "5uFgaAfc6Ypj",
        "colab_type": "code",
        "colab": {
          "autoexec": {
            "startup": false,
            "wait_interval": 0
          }
        }
      },
      "cell_type": "code",
      "source": [
        "sent_end = np.ones((300),dtype=np.float32)\n",
        "#sent_end"
      ],
      "execution_count": 0,
      "outputs": []
    },
    {
      "metadata": {
        "id": "tt9eASB1HsrU",
        "colab_type": "text"
      },
      "cell_type": "markdown",
      "source": [
        "#replace word to vec"
      ]
    },
    {
      "metadata": {
        "id": "4L_jhDgv6Ys9",
        "colab_type": "code",
        "colab": {
          "autoexec": {
            "startup": false,
            "wait_interval": 0
          }
        }
      },
      "cell_type": "code",
      "source": [
        "vec_ques = []\n",
        "for sent in word_ques:\n",
        "  quesvec = [jokes_vec[w] for w in sent if w in jokes_vec.wv.vocab]\n",
        "  vec_ques.append(quesvec)\n",
        "  \n",
        "#vec_ques[0] \n",
        "len(vec_ques[0])"
      ],
      "execution_count": 0,
      "outputs": []
    },
    {
      "metadata": {
        "id": "uc5PDpzm6YwB",
        "colab_type": "code",
        "colab": {
          "autoexec": {
            "startup": false,
            "wait_interval": 0
          }
        }
      },
      "cell_type": "code",
      "source": [
        "vec_ans = []\n",
        "for sent in word_ans:\n",
        "  ansvec = [jokes_vec[w] for w in sent if w in jokes_vec.wv.vocab]\n",
        "  vec_ans.append(ansvec)\n",
        "  \n",
        "#vec_ans[0]\n",
        "len(vec_ans[0])"
      ],
      "execution_count": 0,
      "outputs": []
    },
    {
      "metadata": {
        "id": "xF-elTbTOQY9",
        "colab_type": "text"
      },
      "cell_type": "markdown",
      "source": [
        "#Equal lengths"
      ]
    },
    {
      "metadata": {
        "id": "VOzTtdet9sb0",
        "colab_type": "code",
        "colab": {
          "autoexec": {
            "startup": false,
            "wait_interval": 0
          }
        }
      },
      "cell_type": "code",
      "source": [
        "for h in vec_ques:\n",
        "  h[14:] = []\n",
        "  h.append(sent_end)"
      ],
      "execution_count": 0,
      "outputs": []
    },
    {
      "metadata": {
        "id": "wDOWG-Gi-XSd",
        "colab_type": "code",
        "colab": {
          "autoexec": {
            "startup": false,
            "wait_interval": 0
          }
        }
      },
      "cell_type": "code",
      "source": [
        " for h in vec_ques:\n",
        "  if len(h)<15:\n",
        "    for i in range(15 - len(h)):\n",
        "      h.append(sent_end)"
      ],
      "execution_count": 0,
      "outputs": []
    },
    {
      "metadata": {
        "id": "6ItVLOSO9xh8",
        "colab_type": "code",
        "colab": {
          "autoexec": {
            "startup": false,
            "wait_interval": 0
          }
        }
      },
      "cell_type": "code",
      "source": [
        "for h in vec_ans:\n",
        "  h[14:] = []\n",
        "  h.append(sent_end)"
      ],
      "execution_count": 0,
      "outputs": []
    },
    {
      "metadata": {
        "id": "9lX8xrDuWTk-",
        "colab_type": "code",
        "colab": {
          "autoexec": {
            "startup": false,
            "wait_interval": 0
          }
        }
      },
      "cell_type": "code",
      "source": [
        "for h in vec_ans:\n",
        "  if len(h)<15:\n",
        "    for i in range(15 - len(h)):\n",
        "      h.append(sent_end)"
      ],
      "execution_count": 0,
      "outputs": []
    },
    {
      "metadata": {
        "id": "aV7llgfsWY9_",
        "colab_type": "code",
        "colab": {
          "autoexec": {
            "startup": false,
            "wait_interval": 0
          }
        }
      },
      "cell_type": "code",
      "source": [
        "print(len(vec_ques[80]))\n",
        "print(len(vec_ans[50]))"
      ],
      "execution_count": 0,
      "outputs": []
    },
    {
      "metadata": {
        "id": "GoEylYPl2EyV",
        "colab_type": "text"
      },
      "cell_type": "markdown",
      "source": [
        "#save .bickle"
      ]
    },
    {
      "metadata": {
        "id": "UP8X2Fm72Jdt",
        "colab_type": "code",
        "colab": {
          "autoexec": {
            "startup": false,
            "wait_interval": 0
          }
        }
      },
      "cell_type": "code",
      "source": [
        "#with open('jokes.pickle','wb') as f:\n",
        "#  pickle.dump([vec_ques,vec_ans],f)"
      ],
      "execution_count": 0,
      "outputs": []
    },
    {
      "metadata": {
        "id": "LCnlniFX2ZpC",
        "colab_type": "code",
        "colab": {
          "autoexec": {
            "startup": false,
            "wait_interval": 0
          }
        }
      },
      "cell_type": "code",
      "source": [
        "#files.download('jokes.pickle')"
      ],
      "execution_count": 0,
      "outputs": []
    },
    {
      "metadata": {
        "id": "WxePe2KkBP28",
        "colab_type": "text"
      },
      "cell_type": "markdown",
      "source": [
        "#bilud the model"
      ]
    },
    {
      "metadata": {
        "id": "xAiq5jzqZzBW",
        "colab_type": "code",
        "colab": {
          "autoexec": {
            "startup": false,
            "wait_interval": 0
          }
        }
      },
      "cell_type": "code",
      "source": [
        "vec_ques=np.array(vec_ques,dtype=np.float64)\n",
        "vec_ans=np.array(vec_ans,dtype=np.float64)"
      ],
      "execution_count": 0,
      "outputs": []
    },
    {
      "metadata": {
        "id": "P3B-dHg_wYcD",
        "colab_type": "code",
        "colab": {
          "autoexec": {
            "startup": false,
            "wait_interval": 0
          }
        }
      },
      "cell_type": "code",
      "source": [
        "print(vec_ques.shape)\n",
        "print(vec_ans.shape)"
      ],
      "execution_count": 0,
      "outputs": []
    },
    {
      "metadata": {
        "id": "5qyJD44mZ7HF",
        "colab_type": "code",
        "colab": {
          "autoexec": {
            "startup": false,
            "wait_interval": 0
          }
        }
      },
      "cell_type": "code",
      "source": [
        "x_train,x_test, y_train,y_test = train_test_split(vec_ques, vec_ans, test_size=0.2, random_state=1)"
      ],
      "execution_count": 0,
      "outputs": []
    },
    {
      "metadata": {
        "id": "O6YUEsDhZ_F2",
        "colab_type": "code",
        "colab": {
          "autoexec": {
            "startup": false,
            "wait_interval": 0
          }
        }
      },
      "cell_type": "code",
      "source": [
        "model=Sequential()\n",
        "model.add(LSTM(output_dim=300,input_shape=x_train.shape[1:],return_sequences=True, init='glorot_normal', inner_init='glorot_normal', activation='sigmoid'))\n",
        "model.add(LSTM(output_dim=300,input_shape=x_train.shape[1:],return_sequences=True, init='glorot_normal', inner_init='glorot_normal', activation='sigmoid'))\n",
        "#model.add(LSTM(output_dim=300,input_shape=x_train.shape[1:],return_sequences=True, init='glorot_normal', inner_init='glorot_normal', activation='sigmoid'))\n",
        "#model.add(LSTM(output_dim=300,input_shape=x_train.shape[1:],return_sequences=True, init='glorot_normal', inner_init='glorot_normal', activation='sigmoid'))\n",
        "#model.compile(loss='mean_absolute_error', optimizer='adam', metrics=['accuracy'])\n",
        "model.compile(loss='cosine_proximity', optimizer='adam', metrics=['accuracy'])\n",
        "#model.compile(loss='categorical_crossentropy', optimizer='adam', metrics=['accuracy'])\n"
      ],
      "execution_count": 0,
      "outputs": []
    },
    {
      "metadata": {
        "id": "M-GoqxgO6vOV",
        "colab_type": "code",
        "colab": {
          "autoexec": {
            "startup": false,
            "wait_interval": 0
          }
        }
      },
      "cell_type": "code",
      "source": [
        "model.summary()"
      ],
      "execution_count": 0,
      "outputs": []
    },
    {
      "metadata": {
        "id": "l9CvSKWeiOQ-",
        "colab_type": "code",
        "colab": {
          "autoexec": {
            "startup": false,
            "wait_interval": 0
          }
        }
      },
      "cell_type": "code",
      "source": [
        "history = model.fit(x_train, y_train, nb_epoch=20,validation_data=(x_test, y_test))\n",
        "model.save('LSTM1.h5')\n",
        "history = model.fit(x_train, y_train, nb_epoch=20,validation_data=(x_test, y_test))\n",
        "model.save('LSTM2.h5')\n",
        "history = model.fit(x_train, y_train, nb_epoch=20,validation_data=(x_test, y_test))\n",
        "model.save('LSTM3.h5')\n",
        "history = model.fit(x_train, y_train, nb_epoch=20,validation_data=(x_test, y_test))\n",
        "model.save('LSTM4.h5')\n",
        "history = model.fit(x_train, y_train, nb_epoch=20,validation_data=(x_test, y_test))\n",
        "model.save('LSTM5.h5')\n",
        "history = model.fit(x_train, y_train, nb_epoch=20,validation_data=(x_test, y_test))\n",
        "model.save('LSTM6.h5')\n",
        "history = model.fit(x_train, y_train, nb_epoch=20,validation_data=(x_test, y_test))\n",
        "model.save('LSTM7.h5')\n",
        "history = model.fit(x_train, y_train, nb_epoch=20,validation_data=(x_test, y_test))\n",
        "model.save('LSTM8.h5')\n",
        "history = model.fit(x_train, y_train, nb_epoch=20,validation_data=(x_test, y_test))\n",
        "model.save('LSTM9.h5')\n",
        "history = model.fit(x_train, y_train, nb_epoch=20,validation_data=(x_test, y_test))\n",
        "model.save('LSTM10.h5')"
      ],
      "execution_count": 0,
      "outputs": []
    },
    {
      "metadata": {
        "id": "Ljh3IdVvgJJQ",
        "colab_type": "code",
        "colab": {
          "autoexec": {
            "startup": false,
            "wait_interval": 0
          }
        }
      },
      "cell_type": "code",
      "source": [
        "history = model.fit(x_train, y_train, nb_epoch=20,validation_data=(x_test, y_test))\n",
        "model.save('LSTM11.h5')\n",
        "history = model.fit(x_train, y_train, nb_epoch=20,validation_data=(x_test, y_test))\n",
        "model.save('LSTM12.h5')\n",
        "history = model.fit(x_train, y_train, nb_epoch=20,validation_data=(x_test, y_test))\n",
        "model.save('LSTM13.h5')\n",
        "history = model.fit(x_train, y_train, nb_epoch=20,validation_data=(x_test, y_test))\n",
        "model.save('LSTM14.h5')\n",
        "history = model.fit(x_train, y_train, nb_epoch=20,validation_data=(x_test, y_test))\n",
        "model.save('LSTM15.h5')"
      ],
      "execution_count": 0,
      "outputs": []
    },
    {
      "metadata": {
        "id": "A3zg0XQhtHo5",
        "colab_type": "code",
        "colab": {
          "autoexec": {
            "startup": false,
            "wait_interval": 0
          }
        }
      },
      "cell_type": "code",
      "source": [
        "# plot the error\n",
        "#plt.plot(history.history['loss'])\n",
        "#plt.show()"
      ],
      "execution_count": 0,
      "outputs": []
    },
    {
      "metadata": {
        "id": "_Agg_GR87otr",
        "colab_type": "code",
        "colab": {
          "autoexec": {
            "startup": false,
            "wait_interval": 0
          }
        }
      },
      "cell_type": "code",
      "source": [
        "# save the model file\n",
        "files.download('LSTM15.h5')"
      ],
      "execution_count": 0,
      "outputs": []
    },
    {
      "metadata": {
        "id": "YRkmjeAeDK6i",
        "colab_type": "text"
      },
      "cell_type": "markdown",
      "source": [
        "# run the model and chat"
      ]
    },
    {
      "metadata": {
        "id": "bTMslNyBrcgX",
        "colab_type": "code",
        "colab": {
          "autoexec": {
            "startup": false,
            "wait_interval": 0
          }
        }
      },
      "cell_type": "code",
      "source": [
        "model=load_model('LSTM10.h5')\n",
        "mod = gensim.models.Word2Vec.load('jokes_vec.bin')\n",
        "while(True):\n",
        "    x=input(\"Enter the message:\")\n",
        "    sentend=np.ones((300),dtype=np.float32) \n",
        "\n",
        "    sent=nltk.word_tokenize(x.lower())\n",
        "    sentvec = [mod[w] for w in sent if w in mod.wv.vocab]\n",
        "\n",
        "    sentvec[14:]=[]\n",
        "    sentvec.append(sentend)\n",
        "    if len(sentvec)<15:\n",
        "        for i in range(15-len(sentvec)):\n",
        "            sentvec.append(sentend) \n",
        "    sentvec=np.array([sentvec])\n",
        "    \n",
        "    predictions = model.predict(sentvec)\n",
        "    outputlist=[mod.most_similar([predictions[0][i]])[0][0] for i in range(15)]\n",
        "    output=' '.join(outputlist)\n",
        "    print (output)"
      ],
      "execution_count": 0,
      "outputs": []
    },
    {
      "metadata": {
        "id": "ltb6WbGjIA2v",
        "colab_type": "code",
        "colab": {
          "autoexec": {
            "startup": false,
            "wait_interval": 0
          }
        }
      },
      "cell_type": "code",
      "source": [
        ""
      ],
      "execution_count": 0,
      "outputs": []
    }
  ]
}